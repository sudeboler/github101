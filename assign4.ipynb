{
 "cells": [
  {
   "cell_type": "markdown",
   "id": "9114ba0e",
   "metadata": {},
   "source": [
    "# Assignment 4\n",
    "\n",
    "Please enter your **name, surname** and **student number** instead of `\"NAME-HERE\"`, `\"SURNAME-HERE\"`, `\"NUMBER-HERE\"` below"
   ]
  },
  {
   "cell_type": "code",
   "execution_count": 204,
   "id": "82b897c8",
   "metadata": {},
   "outputs": [
    {
     "name": "stdout",
     "output_type": "stream",
     "text": [
      "{'name': 'NAME-HERE', 'surname': 'SURNAME-HERE', 'studentNumber': 'NUMBER-HERE'}\n"
     ]
    }
   ],
   "source": [
    "student = {\n",
    "    'name' : \"ÜMİT SUDE\" ,\n",
    "    'surname' : \"BÖLER\", \n",
    "    'studentNumber' : \"2215770\"\n",
    "}\n",
    "\n",
    "print(student)"
   ]
  },
  {
   "cell_type": "markdown",
   "id": "628223e0",
   "metadata": {},
   "source": [
    "We will use the `python-constraint` package. To install it open terminal prompt from Anaconda, and type \n",
    "~~~~\n",
    "conda install -c conda-forge python-constraint\n",
    "~~~~\n",
    "\n",
    "Alternatively, you can use `pip` to install this package.\n",
    "~~~~\n",
    "pip install python-constraint\n",
    "~~~~\n",
    "\n",
    "To import see above i.e. `from constraint import *`. [You can find more information about the python-constraint package here](https://labix.org/python-constraint)."
   ]
  },
  {
   "cell_type": "code",
   "execution_count": 205,
   "id": "b03b8506",
   "metadata": {
    "scrolled": true
   },
   "outputs": [],
   "source": [
    "from constraint import *"
   ]
  },
  {
   "cell_type": "markdown",
   "id": "6e9fc2c0",
   "metadata": {},
   "source": [
    "## Scheduling Problem (30)\n",
    "Consider the problem of scheduling five tasks. Tasks can start at 1pm, 2pm or 3pm. The duration of each task is one hour. Any number of tasks can be done simultaneously but the following restrictions must be satisfied:\n",
    "\n",
    "- Task 1 must start after Task 3\n",
    "- Task 3 must start before Task 4 and after Task 5\n",
    "- Task 2 cannot be done at the same time as Task 1\n",
    "- Task 2 cannot be done at the same time as Task 4\n",
    "- Task 4 cannot start at 2\n",
    "\n",
    "Formulate the problem as a CSP and solve it using the `constraint` module. \n",
    "\n",
    "*Note:  Focus on task start times.* \n",
    "\n",
    "*Note: You can represent the domain of the tasks as integers.*\n",
    "\n",
    "*Note: You may want to check the CSP exercise notebook available in Teams.*"
   ]
  },
  {
   "cell_type": "code",
   "execution_count": 206,
   "id": "d02e03a4",
   "metadata": {},
   "outputs": [],
   "source": [
    "p = Problem()\n"
   ]
  },
  {
   "cell_type": "code",
   "execution_count": 207,
   "id": "c5cea88a",
   "metadata": {},
   "outputs": [],
   "source": [
    "#######\n",
    "domain =[1, 2, 3]\n",
    "p.addVariables(['t1','t2','t3','t4','t5'] , domain)\n",
    "p.addConstraint(lambda x,y : x > y, ('t1', 't3'))\n",
    "p.addConstraint(lambda x,y : x < y, ('t3', 't4'))\n",
    "p.addConstraint(lambda x,y : x > y, ('t3', 't5'))\n",
    "p.addConstraint(lambda x,y : x != y, ('t1', 't2'))\n",
    "p.addConstraint(lambda x,y : x != y, ('t4', 't2'))\n",
    "p.addConstraint(lambda x : x !=2 , ('t4', ))\n",
    "\n",
    "# Define your variables, their domains and the constraints here\n",
    "#######"
   ]
  },
  {
   "cell_type": "code",
   "execution_count": 208,
   "id": "df530144",
   "metadata": {},
   "outputs": [
    {
     "data": {
      "text/plain": [
       "[{'t3': 2, 't1': 3, 't4': 3, 't2': 2, 't5': 1},\n",
       " {'t3': 2, 't1': 3, 't4': 3, 't2': 1, 't5': 1}]"
      ]
     },
     "execution_count": 208,
     "metadata": {},
     "output_type": "execute_result"
    }
   ],
   "source": [
    "p.getSolutions()"
   ]
  },
  {
   "attachments": {
    "NQueens.png": {
     "image/png": "[encoded data removed]"
    }
   },
   "cell_type": "markdown",
   "id": "90d97f3f",
   "metadata": {},
   "source": [
    "## 4-Queens Problem as a CSP (30)\n",
    "\n",
    "<img src=\"https://upload.wikimedia.org/wikipedia/commons/thumb/7/76/4_queens.JPG/640px-4_queens.JPG\" alt=\"Four Queens\" style=\"width: 350px;\"/>\n",
    "\n",
    "In 4-Queens problem is placing 4 Queens on a $4 \\times 4$ chess board with none of the Queens attacking each other. *You can check course slides about Search for 8-Queens version of this problem.*\n",
    "\n",
    "![NQueens.png](attachment:NQueens.png)\n",
    "\n",
    "In this question you can consider the *4-queens problem* where each queen is associated with a row and can be assigned to any column in the row. Therefore the domains of each variable can be considered as which column you put the queen.\n",
    "\n",
    "Define this problem as a CSP, and solve it using the `constraint` package."
   ]
  },
  {
   "cell_type": "code",
   "execution_count": 209,
   "id": "8e3f10c0",
   "metadata": {},
   "outputs": [],
   "source": [
    "fq = Problem()\n",
    "\n",
    "domain = [0,1,2,3]\n",
    "fq.addVariables([\"r0\", \"r1\", \"r2\", \"r3\"], domain)"
   ]
  },
  {
   "cell_type": "code",
   "execution_count": 210,
   "id": "9ba7f8be",
   "metadata": {},
   "outputs": [],
   "source": [
    "#######\n",
    "\n",
    "fq.addConstraint(AllDifferentConstraint(), [\"r0\",\"r1\",\"r2\",\"r3\"])\n",
    "fq.addConstraint(lambda x,y : abs(x-y) != 1, (\"r0\",\"r1\"))\n",
    "fq.addConstraint(lambda x,y : abs(x-y) != 2, (\"r0\",\"r2\"))\n",
    "fq.addConstraint(lambda x,y : abs(x-y) != 3, (\"r0\",\"r3\"))\n",
    "fq.addConstraint(lambda x,y : abs(x-y) != 1, (\"r1\",\"r2\"))\n",
    "fq.addConstraint(lambda x,y : abs(x-y) != 2, (\"r1\",\"r3\"))\n",
    "fq.addConstraint(lambda x,y : abs(x-y) != 1, (\"r2\",\"r3\"))\n",
    "# Define your constraints here\n",
    "#######"
   ]
  },
  {
   "cell_type": "code",
   "execution_count": 211,
   "id": "5b641b34",
   "metadata": {},
   "outputs": [
    {
     "data": {
      "text/plain": [
       "[{'r0': 2, 'r1': 0, 'r2': 3, 'r3': 1}, {'r0': 1, 'r1': 3, 'r2': 0, 'r3': 2}]"
      ]
     },
     "execution_count": 211,
     "metadata": {},
     "output_type": "execute_result"
    }
   ],
   "source": [
    "fq.getSolutions()"
   ]
  },
  {
   "cell_type": "markdown",
   "id": "346dd7f5",
   "metadata": {},
   "source": [
    "## 4-Queens Problem as a Logical Problem (40)\n",
    "\n",
    "In this part you are expected solve 4-Queens problem using propositional logic and the model checking approach. Please use the `logic.py` module encolsed with the homework. This is the same module that we discussed in the class. Below we export `logic.py` module. Note that the `logic.py` need to be at the same folder as this notebook.  "
   ]
  },
  {
   "cell_type": "code",
   "execution_count": 212,
   "id": "7a2455f8",
   "metadata": {},
   "outputs": [],
   "source": [
    "from logic import *"
   ]
  },
  {
   "cell_type": "markdown",
   "id": "1cba9e13",
   "metadata": {},
   "source": [
    "In this question, we will have a propositional symbol $q_{ij}$ (`qij`) for each possible placement of queen on row $i$ and column $j$. $q_{ij}$ is $true$ when there is a queen on row $i$ and column $j$. For example $q_{02}$ (`q02`) is $true$ if we have a queen on the first row and third column. Note that the indexing starts at 0. We have 16 symbols."
   ]
  },
  {
   "cell_type": "code",
   "execution_count": 213,
   "id": "703529a4",
   "metadata": {},
   "outputs": [],
   "source": [
    "# We define a symbol qij that is true when there is queen in row i and column j\n",
    "symbols = []\n",
    "\n",
    "knowledge = And()\n",
    "\n",
    "for row in range(4):\n",
    "    for col in range(4):\n",
    "        symbols.append(Symbol(f\"q{row}{col}\"))\n",
    "\n"
   ]
  },
  {
   "cell_type": "markdown",
   "id": "f390b0d3",
   "metadata": {},
   "source": [
    "Next, you will add statements regarding there will exactly one queen on each row, and exactly one queen on each column, and queens must not attack each other diagnoally to your knowledge base. You probably need to define these using `for` loops as there will be numerous sentences. I recommend checking the examples shown in the class."
   ]
  },
  {
   "cell_type": "code",
   "execution_count": 214,
   "id": "c7e000a2",
   "metadata": {},
   "outputs": [],
   "source": [
    "# Exactly one queen in row i            \n",
    "for row in range(4):\n",
    "    knowledge.add(Or(\n",
    "    Symbol(f\"q{row}0\"),\n",
    "    Symbol(f\"q{row}1\"),\n",
    "    Symbol(f\"q{row}2\"),\n",
    "    Symbol(f\"q{row}3\")\n",
    "    ))\n",
    "    for col1 in range(4):\n",
    "        for col2 in range(4):\n",
    "            if col1 != col2:\n",
    "                knowledge.add(\n",
    "                    Implication(Symbol(f\"q{row}{col1}\"), Not(Symbol(f\"q{row}{col2}\")))\n",
    "                )    \n"
   ]
  },
  {
   "cell_type": "code",
   "execution_count": 215,
   "id": "a70a1e01",
   "metadata": {},
   "outputs": [],
   "source": [
    "# Exactly one queen in column j            \n",
    "for column in range(4):\n",
    "    knowledge.add(Or(\n",
    "    Symbol(f\"q0{column}\"),\n",
    "    Symbol(f\"q1{column}\"),\n",
    "    Symbol(f\"q2{column}\"),\n",
    "    Symbol(f\"q3{column}\"),\n",
    "    ))\n",
    "    for row1 in range(4):\n",
    "        for row2 in range(4):\n",
    "            if row1 != row2:\n",
    "                knowledge.add(\n",
    "                    Implication(Symbol(f\"q{row1}{column}\"), Not(Symbol(f\"q{row2}{column}\")))\n",
    "                )    \n"
   ]
  },
  {
   "cell_type": "code",
   "execution_count": 216,
   "id": "ca1647e5",
   "metadata": {},
   "outputs": [],
   "source": [
    "# At most one queen in each diagonal\n",
    "for symbol1 in symbols:\n",
    "    for symbol2 in symbols:\n",
    "        if symbol1 != symbol2:\n",
    "            row1 = int(symbol1.formula()[1])\n",
    "            column1 = int(symbol1.formula()[2])\n",
    "            row2 = int(symbol2.formula()[1])\n",
    "            column2 = int(symbol2.formula()[2])\n",
    "            if abs(row1-row2) == abs(column1-column2):\n",
    "                knowledge.add(\n",
    "                    Implication(symbol1, Not(symbol2))\n",
    "                )"
   ]
  },
  {
   "cell_type": "markdown",
   "id": "afc0926b",
   "metadata": {},
   "source": [
    "Finally you apply model checking to see which symbols are true or are not false. "
   ]
  },
  {
   "cell_type": "code",
   "execution_count": 217,
   "id": "1afa1e80",
   "metadata": {},
   "outputs": [],
   "source": [
    "def check_knowledge(knowledge):\n",
    "    for symbol in symbols:\n",
    "        if model_check(knowledge, symbol):\n",
    "            print(f\"{symbol}: YES\")\n",
    "        elif not model_check(knowledge, Not(symbol)):\n",
    "            print(f\"{symbol}: MAYBE\")"
   ]
  },
  {
   "cell_type": "code",
   "execution_count": 218,
   "id": "f5f9c921",
   "metadata": {},
   "outputs": [
    {
     "name": "stdout",
     "output_type": "stream",
     "text": [
      "q01: MAYBE\n",
      "q02: MAYBE\n",
      "q10: MAYBE\n",
      "q13: MAYBE\n",
      "q20: MAYBE\n",
      "q23: MAYBE\n",
      "q31: MAYBE\n",
      "q32: MAYBE\n"
     ]
    }
   ],
   "source": [
    "check_knowledge(knowledge)"
   ]
  },
  {
   "cell_type": "markdown",
   "id": "60c10780",
   "metadata": {},
   "source": [
    "If you have correctly defined your knowledge base, this code should print\n",
    "\n",
    "~~~~python\n",
    "q01: MAYBE\n",
    "q02: MAYBE\n",
    "q10: MAYBE\n",
    "q13: MAYBE\n",
    "q20: MAYBE\n",
    "q23: MAYBE\n",
    "q31: MAYBE\n",
    "q32: MAYBE\n",
    "~~~~"
   ]
  },
  {
   "cell_type": "markdown",
   "id": "1c7b53d6",
   "metadata": {},
   "source": [
    "In order to find a specific solution, we need to add the place of the knowledge base as well. \n"
   ]
  },
  {
   "cell_type": "code",
   "execution_count": 219,
   "id": "5bf79714",
   "metadata": {},
   "outputs": [
    {
     "name": "stdout",
     "output_type": "stream",
     "text": [
      "q01: YES\n",
      "q13: YES\n",
      "q20: YES\n",
      "q32: YES\n"
     ]
    }
   ],
   "source": [
    "knowledge.add(Symbol(\"q01\"))\n",
    "check_knowledge(knowledge)"
   ]
  },
  {
   "cell_type": "markdown",
   "id": "29b9a06b",
   "metadata": {},
   "source": [
    "If you have correctly defined your knowledge base you should see\n",
    "\n",
    "~~~~\n",
    "q01: YES\n",
    "q13: YES\n",
    "q20: YES\n",
    "q32: YES\n",
    "~~~~"
   ]
  },
  {
   "cell_type": "code",
   "execution_count": null,
   "id": "db2fab6a",
   "metadata": {},
   "outputs": [],
   "source": []
  }
 ],
 "metadata": {
  "kernelspec": {
   "display_name": "Python 3",
   "language": "python",
   "name": "python3"
  },
  "language_info": {
   "codemirror_mode": {
    "name": "ipython",
    "version": 3
   },
   "file_extension": ".py",
   "mimetype": "text/x-python",
   "name": "python",
   "nbconvert_exporter": "python",
   "pygments_lexer": "ipython3",
   "version": "3.9.7"
  }
 },
 "nbformat": 4,
 "nbformat_minor": 5
}
